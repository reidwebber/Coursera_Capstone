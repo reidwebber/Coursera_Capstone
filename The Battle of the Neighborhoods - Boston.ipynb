{
    "cells": [
        {
            "cell_type": "markdown",
            "metadata": {
                "collapsed": true
            },
            "source": "<h1><center>The Battle of the Neighborhoods - Boston</center></h1>\n\n<h1><center>Applied Data Science Capstone Project</center></h1>\n\n<h4>About this Project</h4>\nIn this project, we will evaluate the Boston area neighborhoods in order to determine the most advantagous areas to live based on a customer's preferences.  "
        },
        {
            "cell_type": "markdown",
            "metadata": {},
            "source": "<h4>Discription and background of the problem</h4>\nA potential job opening is available in the greater Boston area and a family is considering the best location to search for future homes.  The family has never been to Boston and unfamiliar with the various neighborhoods.  The family has an opportunity to house hunt during a four-day weekend and would like to search neighborhoods that offer the best opportunities as places with live with services and businesses that they frequent.  "
        },
        {
            "cell_type": "markdown",
            "metadata": {},
            "source": "<h4>Data and how it will solve the problem</h4>\nThe Foursquare.com data provides location information on different types of venues by category and name.  The family would like to search neighborhoods based on the proximity to favorite venues.\n\nThe family has a number of store preferences and would like to exam the types of venues in Foursquare.com data.  They would like to search specific names of businesses and determine if they can identify the locations with the best range to their preferred "
        },
        {
            "cell_type": "code",
            "execution_count": null,
            "metadata": {},
            "outputs": [],
            "source": ""
        }
    ],
    "metadata": {
        "kernelspec": {
            "display_name": "Python 3.6",
            "language": "python",
            "name": "python3"
        },
        "language_info": {
            "codemirror_mode": {
                "name": "ipython",
                "version": 3
            },
            "file_extension": ".py",
            "mimetype": "text/x-python",
            "name": "python",
            "nbconvert_exporter": "python",
            "pygments_lexer": "ipython3",
            "version": "3.6.9"
        }
    },
    "nbformat": 4,
    "nbformat_minor": 1
}